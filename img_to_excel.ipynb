{
 "cells": [
  {
   "cell_type": "code",
   "execution_count": null,
   "id": "2c8dd401-af18-436f-b5be-5cdb641309f3",
   "metadata": {},
   "outputs": [],
   "source": [
    "import os\n",
    "from PIL import Image\n",
    "from openpyxl import Workbook, utils\n",
    "from openpyxl.drawing.image import Image\n",
    "\n",
    "def resize_images(directory, target_height=150):\n",
    "    for filename in os.listdir(directory):\n",
    "        # Check for common image file extensions\n",
    "        if filename.lower().endswith(('.png', '.jpg', '.jpeg')):\n",
    "            file_path = os.path.join(directory, filename)\n",
    "            img = Image.open(file_path)\n",
    "\n",
    "            # Calculate new width maintaining the aspect ratio\n",
    "            hpercent = (target_height / float(img.size[1]))\n",
    "            wsize = int((float(img.size[0]) * float(hpercent)))\n",
    "\n",
    "            # image resize\n",
    "            img_resized = img.resize((wsize, target_height), Image.LANCZOS)\n",
    "\n",
    "            # Save the resized image, overwriting the original file\n",
    "            # To save as a new file, modify the 'file_path' or add a suffix to 'filename'\n",
    "            img_resized.save(file_path)\n",
    "\n",
    "#             print(f\"Resized {filename}\")\n",
    "\n",
    "# Example usage\n",
    "directory_path = 'path to folder with images'\n",
    "resize_images(directory_path)\n",
    "print(\"All images have been resized.\")"
   ]
  },
  {
   "cell_type": "code",
   "execution_count": 3,
   "id": "1c0c9178-89c4-4b0c-83a5-498574b3f3e9",
   "metadata": {},
   "outputs": [],
   "source": [
    "# Create a new Excel workbook\n",
    "wb = Workbook()\n",
    "ws = wb.active\n",
    " \n",
    "# Iterate over the files in the folder\n",
    "for idx, filename in enumerate(os.listdir(directory_path)):\n",
    "    if filename.endswith(\".jpg\") or filename.endswith(\".png\"):  # Change file extensions as needed\n",
    "        # Add filename without extension to the first column\n",
    "        ws.cell(row=idx+1, column=1, value=os.path.splitext(filename)[0])\n",
    " \n",
    "        # Add image to the second column and resize it to fit the cell\n",
    "        img = Image(os.path.join(directory_path, filename))\n",
    "        ws.add_image(img, f'B{idx+1}')\n",
    "        ws.row_dimensions[idx].height = 130\n",
    "\n",
    "# changing column A width to fit content\n",
    "for column_cells in ws.columns:\n",
    "    length = max(len(str(cell.value)) for cell in column_cells)\n",
    "    adjusted_width = (length + 2)  # Adding a little extra width for padding\n",
    "    ws.column_dimensions[utils.get_column_letter(column_cells[0].column)].width = adjusted_width\n",
    "\n",
    "ws.column_dimensions['B'].width = 25 # NOTE: CHANGE THIS FOR CHANGING ROW WIDTH OF IMAGE COLUMN\n",
    "book = \"name of workbook to save.xlsx\" \n",
    "wb.save(book)"
   ]
  },
  {
   "cell_type": "code",
   "execution_count": null,
   "id": "348a3f67-541d-4f8a-88be-6e6ebd6dc374",
   "metadata": {},
   "outputs": [],
   "source": []
  }
 ],
 "metadata": {
  "kernelspec": {
   "display_name": "Python 3 (ipykernel)",
   "language": "python",
   "name": "python3"
  },
  "language_info": {
   "codemirror_mode": {
    "name": "ipython",
    "version": 3
   },
   "file_extension": ".py",
   "mimetype": "text/x-python",
   "name": "python",
   "nbconvert_exporter": "python",
   "pygments_lexer": "ipython3",
   "version": "3.10.7"
  }
 },
 "nbformat": 4,
 "nbformat_minor": 5
}
